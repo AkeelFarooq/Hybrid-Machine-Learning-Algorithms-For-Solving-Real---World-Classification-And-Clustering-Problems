{
  "nbformat": 4,
  "nbformat_minor": 0,
  "metadata": {
    "colab": {
      "private_outputs": true,
      "provenance": []
    },
    "kernelspec": {
      "name": "python3",
      "display_name": "Python 3"
    },
    "language_info": {
      "name": "python"
    }
  },
  "cells": [
    {
      "cell_type": "code",
      "execution_count": null,
      "metadata": {
        "id": "3PxQJZPlg5DE"
      },
      "outputs": [],
      "source": [
        "import pandas as pd\n",
        "import numpy as np\n",
        "import math\n",
        "import seaborn as sns\n",
        "import matplotlib.pyplot as plt\n",
        "from sklearn.preprocessing import LabelEncoder"
      ]
    },
    {
      "cell_type": "code",
      "source": [
        "dataframe = pd.read_csv(\"/content/drive/MyDrive/s21.csv\", header=None)"
      ],
      "metadata": {
        "id": "cX4qn2BAhL_5"
      },
      "execution_count": null,
      "outputs": []
    },
    {
      "cell_type": "code",
      "source": [
        "dataframe.head()"
      ],
      "metadata": {
        "id": "udhz6zcfH56Y"
      },
      "execution_count": null,
      "outputs": []
    },
    {
      "cell_type": "code",
      "source": [
        "dataframe.tail()"
      ],
      "metadata": {
        "id": "jx-TlH39H95j"
      },
      "execution_count": null,
      "outputs": []
    },
    {
      "cell_type": "code",
      "source": [
        "dataframe.info()"
      ],
      "metadata": {
        "id": "kphzm_FMH_UG"
      },
      "execution_count": null,
      "outputs": []
    },
    {
      "cell_type": "code",
      "source": [
        "#Data Pre-Processing\n",
        "print(dataframe)\n",
        "dataframe.select_dtypes(object)"
      ],
      "metadata": {
        "id": "ypAxQ0BQkv2Y"
      },
      "execution_count": null,
      "outputs": []
    },
    {
      "cell_type": "code",
      "source": [
        "dataframe.describe()"
      ],
      "metadata": {
        "id": "izcLJfzyIDPN"
      },
      "execution_count": null,
      "outputs": []
    },
    {
      "cell_type": "code",
      "source": [
        "dataframe.shape"
      ],
      "metadata": {
        "id": "euVZfzfWIG_C"
      },
      "execution_count": null,
      "outputs": []
    },
    {
      "cell_type": "code",
      "source": [
        "dataframe.isnull().sum()"
      ],
      "metadata": {
        "id": "bD9COmzrT5w2"
      },
      "execution_count": null,
      "outputs": []
    },
    {
      "cell_type": "code",
      "source": [
        "for col in dataframe.columns:\n",
        "    print('{} : {}'.format(col,dataframe[col].unique()))"
      ],
      "metadata": {
        "id": "C-BBMRS7UUyy"
      },
      "execution_count": null,
      "outputs": []
    },
    {
      "cell_type": "code",
      "source": [
        "for col in dataframe.columns:\n",
        "    dataframe[col].replace({'?':np.nan},inplace=True)"
      ],
      "metadata": {
        "id": "j-2_SMOlUfuw"
      },
      "execution_count": null,
      "outputs": []
    },
    {
      "cell_type": "code",
      "source": [
        "dataframe.head()"
      ],
      "metadata": {
        "id": "uJObQohdUnh5"
      },
      "execution_count": null,
      "outputs": []
    },
    {
      "cell_type": "code",
      "source": [
        "dataframe.isnull().sum()"
      ],
      "metadata": {
        "id": "oc6rOGR0Uvon"
      },
      "execution_count": null,
      "outputs": []
    },
    {
      "cell_type": "code",
      "source": [
        "sns.heatmap(dataframe.isnull(),cbar=True,cmap='ocean')"
      ],
      "metadata": {
        "id": "Yiwb0Da9U7LM"
      },
      "execution_count": null,
      "outputs": []
    },
    {
      "cell_type": "code",
      "source": [
        "# Get correlation matrix values\n",
        "corr = dataframe.corr()\n",
        "# Visualizing correlation values using seaborn\n",
        "sns.heatmap(corr, annot=True)"
      ],
      "metadata": {
        "id": "GYqO1mCFnSeJ"
      },
      "execution_count": null,
      "outputs": []
    },
    {
      "cell_type": "code",
      "source": [
        "plt.figure(figsize=(25,10))\n",
        "sns.heatmap(dataframe.corr(),cbar=True,annot=True,cmap='OrRd')"
      ],
      "metadata": {
        "id": "qJx3HI4mVTTp"
      },
      "execution_count": null,
      "outputs": []
    },
    {
      "cell_type": "code",
      "source": [
        "X2 = dataframe.iloc[:,30:32]\n",
        "X2 = X2.apply(LabelEncoder().fit_transform)"
      ],
      "metadata": {
        "id": "pWDosh2BNc7T"
      },
      "execution_count": null,
      "outputs": []
    },
    {
      "cell_type": "code",
      "source": [
        "X = dataframe.iloc[:,0:30]\n",
        "y = dataframe[31]"
      ],
      "metadata": {
        "id": "ab25ZQJgNi6M"
      },
      "execution_count": null,
      "outputs": []
    },
    {
      "cell_type": "code",
      "source": [
        "len(X)"
      ],
      "metadata": {
        "id": "V_XSRyghOQS8"
      },
      "execution_count": null,
      "outputs": []
    },
    {
      "cell_type": "code",
      "source": [
        "from sklearn.model_selection import train_test_split\n",
        "from sklearn.preprocessing import LabelEncoder\n",
        "from sklearn import metrics\n",
        "from sklearn.neighbors import KNeighborsClassifier\n",
        "from sklearn.svm import SVC\n",
        "from sklearn.tree import DecisionTreeClassifier\n",
        "from sklearn.ensemble import StackingClassifier\n",
        "from sklearn.linear_model import LogisticRegression\n",
        "from sklearn.metrics import accuracy_score\n",
        "from sklearn.metrics import f1_score"
      ],
      "metadata": {
        "id": "Z-jgVNR6NJl-"
      },
      "execution_count": null,
      "outputs": []
    },
    {
      "cell_type": "markdown",
      "source": [
        "###Splitting dataset for training & testing purpose"
      ],
      "metadata": {
        "id": "t3yy47vnOf4r"
      }
    },
    {
      "cell_type": "code",
      "source": [
        "X_train, X_test, y_train, y_test = train_test_split(X, y, test_size=0.20, random_state = 451)"
      ],
      "metadata": {
        "id": "1uf0FzJkOjNq"
      },
      "execution_count": null,
      "outputs": []
    },
    {
      "cell_type": "markdown",
      "source": [
        "###Naive Bayes Algo"
      ],
      "metadata": {
        "id": "N77xyNeCOvrc"
      }
    },
    {
      "cell_type": "code",
      "source": [
        "from sklearn.naive_bayes import GaussianNB\n",
        "nb = GaussianNB()\n",
        "nb.fit(X_train, y_train)\n",
        "y_pred_nb = nb.predict(X_test)\n",
        "print (metrics.accuracy_score(y_test, y_pred_nb))\n",
        "nb_test_accuracy = accuracy_score(y_test, y_pred_nb)"
      ],
      "metadata": {
        "id": "YMNp3PQiOzbs"
      },
      "execution_count": null,
      "outputs": []
    },
    {
      "cell_type": "code",
      "source": [
        "nb.score(X_test, y_test)"
      ],
      "metadata": {
        "id": "8BS1XQL9_YYp"
      },
      "execution_count": null,
      "outputs": []
    },
    {
      "cell_type": "code",
      "source": [
        "y_pred_nb = nb.predict(X_test)\n",
        "y_pred_nb"
      ],
      "metadata": {
        "id": "_WnLIMYqAf1p"
      },
      "execution_count": null,
      "outputs": []
    },
    {
      "cell_type": "code",
      "source": [
        "accuracy_score(y_pred_nb, y_test)*100"
      ],
      "metadata": {
        "id": "_xuGGUgNApaz"
      },
      "execution_count": null,
      "outputs": []
    },
    {
      "cell_type": "code",
      "source": [
        "y_pred_nb, y_test"
      ],
      "metadata": {
        "id": "OjZfiYBCA3ea"
      },
      "execution_count": null,
      "outputs": []
    },
    {
      "cell_type": "code",
      "source": [
        "from sklearn.metrics import confusion_matrix\n",
        "# creating a Confusion matrix\n",
        "confusion_matrix_nb = confusion_matrix(y_test,y_pred_nb)\n",
        "confusion_matrix_nb"
      ],
      "metadata": {
        "id": "GsUL44ufbzSh"
      },
      "execution_count": null,
      "outputs": []
    },
    {
      "cell_type": "code",
      "source": [
        "sns.heatmap(confusion_matrix_nb, annot=True,cmap='Blues',annot_kws={\"size\": 30})\n",
        "sns.set(rc={'figure.figsize':(20,10)})\n",
        "plt.show()\n",
        "\n",
        "print('True Positive:\\t{}'.format(confusion_matrix_nb[0,0]))\n",
        "print('True Negative:\\t{}'.format(confusion_matrix_nb[0,1]))\n",
        "print('False Positive:\\t{}'.format(confusion_matrix_nb[1,0]))\n",
        "print('False Negative:\\t{}'.format(confusion_matrix_nb[1,1]))"
      ],
      "metadata": {
        "id": "pTG2v63fqiQ2"
      },
      "execution_count": null,
      "outputs": []
    },
    {
      "cell_type": "code",
      "source": [
        "# Confusion Matrix Metrics\n",
        "from sklearn.metrics import classification_report\n",
        "matrix = classification_report(y_test,y_pred_nb)\n",
        "print(\"classification_report: \\n\", matrix)\n"
      ],
      "metadata": {
        "id": "i7E-lAQiqiQ2"
      },
      "execution_count": null,
      "outputs": []
    },
    {
      "cell_type": "code",
      "source": [
        "nb_test_f1 = f1_score(y_test, y_pred_nb, average='weighted') # Calculate F1-score\n",
        "print('- F1 score: %s' % nb_test_f1)"
      ],
      "metadata": {
        "id": "Y7o0Mu9H80IK"
      },
      "execution_count": null,
      "outputs": []
    },
    {
      "cell_type": "code",
      "source": [
        "sensitivitynb = confusion_matrix_nb[0,0]/(confusion_matrix_nb[0,0]+confusion_matrix_nb[0,1])\n",
        "print('Sensitivity : ', sensitivitynb )"
      ],
      "metadata": {
        "id": "kQa6EbWNgH8K"
      },
      "execution_count": null,
      "outputs": []
    },
    {
      "cell_type": "code",
      "source": [
        "specificitynb = confusion_matrix_nb[1,1]/(confusion_matrix_nb[1,0]+confusion_matrix_nb[1,1])\n",
        "print('Specificity : ', specificitynb)"
      ],
      "metadata": {
        "id": "CK9gvl3JgH8K"
      },
      "execution_count": null,
      "outputs": []
    },
    {
      "cell_type": "markdown",
      "source": [
        "###KNN Algo"
      ],
      "metadata": {
        "id": "nxMahglSQGvV"
      }
    },
    {
      "cell_type": "code",
      "source": [
        "knn = KNeighborsClassifier(n_neighbors = 5)\n",
        "knn.fit(X_train, y_train)\n",
        "y_pred_knn = knn.predict(X_test)\n",
        "print (metrics.accuracy_score(y_test, y_pred_knn))\n",
        "knn_test_accuracy = accuracy_score(y_test, y_pred_knn) "
      ],
      "metadata": {
        "id": "EZuntRmXQKwN"
      },
      "execution_count": null,
      "outputs": []
    },
    {
      "cell_type": "code",
      "source": [
        "knn.score(X_test, y_test)*100"
      ],
      "metadata": {
        "id": "FSLuEhxqHnWC"
      },
      "execution_count": null,
      "outputs": []
    },
    {
      "cell_type": "code",
      "source": [
        "y_pred_knn = knn.predict(X_test)\n",
        "y_pred_knn"
      ],
      "metadata": {
        "id": "f_Qgt7SvH5pQ"
      },
      "execution_count": null,
      "outputs": []
    },
    {
      "cell_type": "code",
      "source": [
        "accuracy_score(y_pred_knn, y_test)"
      ],
      "metadata": {
        "id": "e5m6jZhsH5pQ"
      },
      "execution_count": null,
      "outputs": []
    },
    {
      "cell_type": "code",
      "source": [
        "y_pred_knn, y_test"
      ],
      "metadata": {
        "id": "WaCkiVB2H5pQ"
      },
      "execution_count": null,
      "outputs": []
    },
    {
      "cell_type": "code",
      "source": [
        "\n",
        "# creating a Confusion matrix\n",
        "confusion_matrix_knn = confusion_matrix(y_test,y_pred_knn)\n",
        "\n",
        "confusion_matrix_knn"
      ],
      "metadata": {
        "id": "BHAXAEsMH5pR"
      },
      "execution_count": null,
      "outputs": []
    },
    {
      "cell_type": "code",
      "source": [
        "sns.heatmap(confusion_matrix_knn, annot=True,cmap='Blues',annot_kws={\"size\": 30})\n",
        "sns.set(rc={'figure.figsize':(20,10)})\n",
        "plt.show()\n",
        "\n",
        "print('True Positive:\\t{}'.format(confusion_matrix_knn[0,0]))\n",
        "print('True Negative:\\t{}'.format(confusion_matrix_knn[0,1]))\n",
        "print('False Positive:\\t{}'.format(confusion_matrix_knn[1,0]))\n",
        "print('False Negative:\\t{}'.format(confusion_matrix_knn[1,1]))\n"
      ],
      "metadata": {
        "id": "FysDr9YJH5pR"
      },
      "execution_count": null,
      "outputs": []
    },
    {
      "cell_type": "code",
      "source": [
        "# Confusion Matrix Metrics\n",
        "\n",
        "matrix = classification_report(y_test,y_pred_knn)\n",
        "print(\"classification_report: \\n\", matrix)"
      ],
      "metadata": {
        "id": "BrnrY1IxH5pR"
      },
      "execution_count": null,
      "outputs": []
    },
    {
      "cell_type": "code",
      "source": [
        "knn_test_f1 = f1_score(y_test, y_pred_knn, average='weighted') # Calculate F1-score\n",
        "print('- F1 score: %s' % knn_test_f1)"
      ],
      "metadata": {
        "id": "1R3MSViN9stD"
      },
      "execution_count": null,
      "outputs": []
    },
    {
      "cell_type": "code",
      "source": [
        "sensitivityknn = confusion_matrix_knn[0,0]/(confusion_matrix_knn[0,0]+confusion_matrix_knn[0,1])\n",
        "print('Sensitivity : ', sensitivityknn )\n",
        "\n"
      ],
      "metadata": {
        "id": "YRLvgpp6H5pR"
      },
      "execution_count": null,
      "outputs": []
    },
    {
      "cell_type": "code",
      "source": [
        "specificityknn = confusion_matrix_knn [1,1]/(confusion_matrix_knn [1,0]+confusion_matrix_knn [1,1])\n",
        "print('Specificity : ', specificityknn)"
      ],
      "metadata": {
        "id": "M5GhkWr0H5pR"
      },
      "execution_count": null,
      "outputs": []
    },
    {
      "cell_type": "markdown",
      "source": [
        "###Decision Tree Algo"
      ],
      "metadata": {
        "id": "M0YCE2HTQZKa"
      }
    },
    {
      "cell_type": "code",
      "source": [
        "dt = DecisionTreeClassifier()\n",
        "dt.fit(X_train, y_train)\n",
        "y_pred_dt = dt.predict(X_test)\n",
        "print (metrics.accuracy_score(y_test, y_pred_dt))\n",
        "dt_test_accuracy = accuracy_score(y_test, y_pred_dt)"
      ],
      "metadata": {
        "id": "G1sTA-NtQSBc"
      },
      "execution_count": null,
      "outputs": []
    },
    {
      "cell_type": "code",
      "source": [
        "dt.score(X_test, y_test)"
      ],
      "metadata": {
        "id": "ZoKFtDOgazJM"
      },
      "execution_count": null,
      "outputs": []
    },
    {
      "cell_type": "code",
      "source": [
        "y_pred_dt = dt.predict(X_test)\n",
        "y_pred_dt"
      ],
      "metadata": {
        "id": "QJQhJvzkazJM"
      },
      "execution_count": null,
      "outputs": []
    },
    {
      "cell_type": "code",
      "source": [
        "accuracy_score(y_pred_dt, y_test)*100"
      ],
      "metadata": {
        "id": "QLhwMNEwazJM"
      },
      "execution_count": null,
      "outputs": []
    },
    {
      "cell_type": "code",
      "source": [
        "y_pred_dt, y_test"
      ],
      "metadata": {
        "id": "sz8wPWCtazJN"
      },
      "execution_count": null,
      "outputs": []
    },
    {
      "cell_type": "code",
      "source": [
        "# creating a Confusion matrix\n",
        "confusion_matrix_dt = confusion_matrix(y_test,y_pred_dt)\n",
        "\n",
        "confusion_matrix_dt"
      ],
      "metadata": {
        "id": "FmBiguWPrnZn"
      },
      "execution_count": null,
      "outputs": []
    },
    {
      "cell_type": "code",
      "source": [
        "sns.heatmap(confusion_matrix_dt, annot=True,cmap='Blues',annot_kws={\"size\": 30})\n",
        "sns.set(rc={'figure.figsize':(20,10)})\n",
        "plt.show()\n",
        "print('True Positive:\\t{}'.format(confusion_matrix_dt[0,0]))\n",
        "print('True Negative:\\t{}'.format(confusion_matrix_dt[0,1]))\n",
        "print('False Positive:\\t{}'.format(confusion_matrix_dt[1,0]))\n",
        "print('False Negative:\\t{}'.format(confusion_matrix_dt[1,1]))"
      ],
      "metadata": {
        "id": "PJHIe-hucsEB"
      },
      "execution_count": null,
      "outputs": []
    },
    {
      "cell_type": "code",
      "source": [
        "# Confusion Matrix Metrics\n",
        "\n",
        "matrix = classification_report(y_test,y_pred_dt)\n",
        "print(\"classification_report: \\n\", matrix)"
      ],
      "metadata": {
        "id": "GkAebdMUbibR"
      },
      "execution_count": null,
      "outputs": []
    },
    {
      "cell_type": "code",
      "source": [
        "dt_test_f1 = f1_score(y_test, y_pred_dt, average='weighted') # Calculate F1-score\n",
        "print('- F1 score: %s' % dt_test_f1)"
      ],
      "metadata": {
        "id": "NgYO8H0W-IQw"
      },
      "execution_count": null,
      "outputs": []
    },
    {
      "cell_type": "code",
      "source": [
        "sensitivitydt = confusion_matrix_dt[0,0]/(confusion_matrix_dt[0,0]+confusion_matrix_dt[0,1])\n",
        "print('Sensitivity : ', sensitivitydt )"
      ],
      "metadata": {
        "id": "muC6Q1x0b428"
      },
      "execution_count": null,
      "outputs": []
    },
    {
      "cell_type": "code",
      "source": [
        "specificitydt = confusion_matrix_dt[1,1]/(confusion_matrix_dt[1,0]+confusion_matrix_dt[1,1])\n",
        "print('Specificity : ', specificitydt)"
      ],
      "metadata": {
        "id": "cvSk0qRPsqY7"
      },
      "execution_count": null,
      "outputs": []
    },
    {
      "cell_type": "code",
      "source": [
        "X_train, X_test, y_train, y_test = train_test_split(X, y, test_size=0.25, random_state = 451,stratify = y)\n"
      ],
      "metadata": {
        "id": "5bN7S7jXAWsC"
      },
      "execution_count": null,
      "outputs": []
    },
    {
      "cell_type": "code",
      "source": [
        "from sklearn.preprocessing import LabelEncoder, OneHotEncoder\n",
        "from sklearn.ensemble import StackingClassifier\n",
        "from sklearn.linear_model import LogisticRegression\n",
        "from sklearn.metrics import accuracy_score\n",
        "from sklearn.metrics import f1_score\n",
        "\n",
        "estimator_list = [\n",
        "    ('knn',knn),\n",
        "    ('dt',dt),\n",
        "    ('nb',nb),\n",
        "     ]\n",
        "\n",
        "# Build stack model\n",
        "stack_model = StackingClassifier(\n",
        "    estimators=estimator_list, final_estimator=LogisticRegression()\n",
        ")\n",
        "\n",
        "# Train stacked model\n",
        "stack_model.fit(X_train, y_train)\n",
        "\n",
        "# Make predictions\n",
        "y_train_pred = stack_model.predict(X_train)\n",
        "y_test_pred = stack_model.predict(X_test)\n",
        "\n",
        "# Training set model performance\n",
        "stack_model_train_accuracy = accuracy_score(y_train, y_train_pred) # Calculate Accuracy\n",
        "stack_model_train_f1 = f1_score(y_train, y_train_pred, average='weighted') # Calculate F1-score\n",
        "\n",
        "# Test set model performance\n",
        "stack_model_test_accuracy = accuracy_score(y_test, y_test_pred) # Calculate Accuracy\n",
        "stack_model_test_f1 = f1_score(y_test, y_test_pred, average='weighted') # Calculate F1-score\n",
        "\n",
        "print('Model performance for Training set')\n",
        "print('- Accuracy: %s' % stack_model_train_accuracy)\n",
        "print('- F1 score: %s' % stack_model_train_f1)\n",
        "print('----------------------------------')\n",
        "print('Model performance for Test set')\n",
        "print('- Accuracy: %s' % stack_model_test_accuracy)\n",
        "print('- F1 score: %s' % stack_model_test_f1)"
      ],
      "metadata": {
        "id": "XehmN0FXatZZ"
      },
      "execution_count": null,
      "outputs": []
    },
    {
      "cell_type": "code",
      "source": [
        "stack_model.score(X_test, y_test)"
      ],
      "metadata": {
        "id": "6ae5CZ_2sklM"
      },
      "execution_count": null,
      "outputs": []
    },
    {
      "cell_type": "code",
      "source": [
        "y_pred_stack_model = stack_model.predict(X_test)\n",
        "y_pred_stack_model"
      ],
      "metadata": {
        "id": "IIHjJ9W2sklM"
      },
      "execution_count": null,
      "outputs": []
    },
    {
      "cell_type": "code",
      "source": [
        "accuracy_score(y_pred_stack_model, y_test)*100"
      ],
      "metadata": {
        "id": "-jue5d24sklM"
      },
      "execution_count": null,
      "outputs": []
    },
    {
      "cell_type": "code",
      "source": [
        "y_pred_stack_model, y_test"
      ],
      "metadata": {
        "id": "UtSB-X0jsklM"
      },
      "execution_count": null,
      "outputs": []
    },
    {
      "cell_type": "markdown",
      "source": [
        "# ***Confusion matrix***"
      ],
      "metadata": {
        "id": "mRbEVSTstWEO"
      }
    },
    {
      "cell_type": "code",
      "source": [
        "# creating a Confusion matrix\n",
        "stack_model = confusion_matrix(y_test,y_pred_stack_model)\n",
        "stack_model\n"
      ],
      "metadata": {
        "id": "wY1b0x7ftWEO"
      },
      "execution_count": null,
      "outputs": []
    },
    {
      "cell_type": "code",
      "source": [
        "sns.heatmap(stack_model, annot=True,cmap='Blues',annot_kws={\"size\": 30})\n",
        "sns.set(rc={'figure.figsize':(20,10)})\n",
        "plt.show()\n",
        "\n",
        "print('True Positive:\\t{}'.format(stack_model[0,0]))\n",
        "print('True Negative:\\t{}'.format(stack_model[0,1]))\n",
        "print('False Positive:\\t{}'.format(stack_model[1,0]))\n",
        "print('False Negative:\\t{}'.format(stack_model[1,1]))\n"
      ],
      "metadata": {
        "id": "vjL0IpeotWEP"
      },
      "execution_count": null,
      "outputs": []
    },
    {
      "cell_type": "code",
      "source": [
        "# Confusion Matrix Metrics\n",
        "\n",
        "matrix = classification_report(y_test,y_pred_stack_model)\n",
        "print(\"classification_report: \\n\", matrix)"
      ],
      "metadata": {
        "id": "stDt-ggftWEP"
      },
      "execution_count": null,
      "outputs": []
    },
    {
      "cell_type": "code",
      "source": [
        "sensitivity_stack_model = stack_model[0,0]/(stack_model[0,0]+stack_model[0,1])\n",
        "print('SensitivityANN : ', sensitivity_stack_model )\n",
        "\n"
      ],
      "metadata": {
        "id": "ySJIdLOitWEP"
      },
      "execution_count": null,
      "outputs": []
    },
    {
      "cell_type": "code",
      "source": [
        "specificity_stack_model = stack_model[1,1]/(stack_model[1,0]+stack_model[1,1])\n",
        "print('SpecificityANN : ', specificity_stack_model)"
      ],
      "metadata": {
        "id": "WERfI4b-tWEP"
      },
      "execution_count": null,
      "outputs": []
    },
    {
      "cell_type": "code",
      "source": [
        "acc_test_list = {\n",
        "'knn':knn_test_accuracy,\n",
        "'dt': dt_test_accuracy,\n",
        "'nb': nb_test_accuracy,\n",
        "'stack': stack_model_test_accuracy}"
      ],
      "metadata": {
        "id": "qav02qFhge3p"
      },
      "execution_count": null,
      "outputs": []
    },
    {
      "cell_type": "code",
      "source": [
        "import pandas as pd\n",
        "\n",
        "acc_df = pd.DataFrame.from_dict(acc_test_list, orient='index', columns=['Accuracy'])*100\n",
        "\n",
        "df = pd.concat([acc_df], axis=1)\n",
        "df"
      ],
      "metadata": {
        "id": "kO3g8CaFkFr2"
      },
      "execution_count": null,
      "outputs": []
    },
    {
      "cell_type": "code",
      "source": [
        "scores = [knn_test_accuracy  ,dt_test_accuracy ,nb_test_accuracy,stack_model_test_accuracy  ]\n",
        "algorithms = [\"K-Nearest Neighbors\",\"Decision Tree\",\"Naive Bayes\", \"Stack_model\"]    \n",
        "\n",
        "for i in range(len(algorithms)):\n",
        "    print(\"The accuracy score achieved using \"+algorithms[i]+\" is: \"+str(100*(scores[i]))+\"%\")"
      ],
      "metadata": {
        "id": "Rv_8adsukIQ3"
      },
      "execution_count": null,
      "outputs": []
    },
    {
      "cell_type": "code",
      "source": [
        "sns.set(rc={'figure.figsize':(20,10)})\n",
        "plt.xlabel(\"Algorithms\")\n",
        "plt.ylabel(\"Accuracy score\")\n",
        "\n",
        "sns.barplot(algorithms,scores)"
      ],
      "metadata": {
        "id": "xpJHU4HJkcO7"
      },
      "execution_count": null,
      "outputs": []
    },
    {
      "cell_type": "code",
      "source": [
        "!jupyter nbconvert --to html /content/7072CEM.ipynb"
      ],
      "metadata": {
        "id": "QAoTBplIZy8j"
      },
      "execution_count": null,
      "outputs": []
    }
  ]
}